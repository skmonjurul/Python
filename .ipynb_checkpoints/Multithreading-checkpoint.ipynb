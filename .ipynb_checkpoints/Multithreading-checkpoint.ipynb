{
 "cells": [
  {
   "cell_type": "markdown",
   "metadata": {},
   "source": [
    "youtube link:\n",
    "https://www.youtube.com/playlist?list=PLeo1K3hjS3uub3PRhdoCTY8BxMKSW7RjN"
   ]
  },
  {
   "cell_type": "code",
   "execution_count": 82,
   "metadata": {},
   "outputs": [
    {
     "name": "stdout",
     "output_type": "stream",
     "text": [
      "calculate square\n",
      "calculate cubesum of a and b=  30\n",
      "\n",
      "square=  1\n",
      "cube=  1\n",
      "square=  4\n",
      "cube=  8\n",
      "cube= square=  27\n",
      " 9\n",
      "square= cube=  64\n",
      " 16\n",
      "cube=  125\n",
      "square=  25\n",
      "cube=  [1, 8, 27, 64, 125] sqr=  [1, 4, 9, 16, 25]\n",
      "5.032599210739136  secs\n"
     ]
    }
   ],
   "source": [
    "# https://github.com/codebasics/py/blob/master/Multiprocessing/multthreading_introduction.py\n",
    "\n",
    "import time\n",
    "import threading\n",
    "from datetime import datetime\n",
    "\n",
    "cube_arr=[]\n",
    "sq_arr=[]\n",
    "start= time.time()\n",
    "def calc_square(numbers):\n",
    "    print(\"calculate square\")\n",
    "    for i in numbers:\n",
    "        time.sleep(1)\n",
    "        print(\"square= \",i*i)\n",
    "        sq_arr.append(i*i)\n",
    "        \n",
    "def calc_cube(numbers):\n",
    "    print(\"calculate cube\")\n",
    "    for i in numbers:\n",
    "        time.sleep(1)\n",
    "        print(\"cube= \",i*i*i)\n",
    "        cube_arr.append(i*i*i)\n",
    "        \n",
    "\n",
    "arr=[1,2,3,4,5]\n",
    "\n",
    "t1= threading.Thread(target=calc_square, args=(arr,))\n",
    "t2= threading.Thread(target=calc_cube, args=(arr,))\n",
    "\n",
    "t1.start()\n",
    "t2.start()\n",
    "\n",
    "# a=10\n",
    "# b=20\n",
    "# c=a+b\n",
    "# print(\"sum of a and b= \",c)\n",
    "\n",
    "t1.join()\n",
    "t2.join()\n",
    "\n",
    "# calc_square(arr)\n",
    "# calc_cube(arr)\n",
    "\n",
    "print(\"cube= \",cube_arr,\"sqr= \",sq_arr)\n",
    "\n",
    "mins,ses= divmod(time.time()-start, 60)\n",
    "print(ses,\" secs\")"
   ]
  },
  {
   "cell_type": "code",
   "execution_count": null,
   "metadata": {},
   "outputs": [],
   "source": []
  },
  {
   "cell_type": "markdown",
   "metadata": {},
   "source": [
    "video: 2\n",
    "multiprocessing"
   ]
  },
  {
   "cell_type": "code",
   "execution_count": null,
   "metadata": {},
   "outputs": [],
   "source": []
  },
  {
   "cell_type": "code",
   "execution_count": 10,
   "metadata": {},
   "outputs": [
    {
     "name": "stdout",
     "output_type": "stream",
     "text": [
      "[]\n",
      "0.15468454360961914  secs\n"
     ]
    }
   ],
   "source": [
    "import time\n",
    "import multiprocessing, threading\n",
    "import random\n",
    "\n",
    "start_time= time.time()\n",
    "\n",
    "square=[]\n",
    "def calc_square(arr):\n",
    "    for i in arr:\n",
    "#         time.sleep(1)\n",
    "        print(i*i)\n",
    "        square.append(i*i)\n",
    "\n",
    "random.seed(1)        \n",
    "arr= [random.randint(1,10) for i in range(100000000)]\n",
    "\n",
    "# multiprocessing\n",
    "# p1= multiprocessing.Process(target=calc_square, args= (arr,))\n",
    "# p1.start()\n",
    "# p1.join()\n",
    "\n",
    "# multithreading\n",
    "p2= threading.Thread(target= calc_square, args= (arr,))\n",
    "p2.start()\n",
    "p2.join()\n",
    "\n",
    "# normal calculation\n",
    "# calc_square(arr)\n",
    "\n",
    "end_time=time.time()\n",
    "\n",
    "print(square)\n",
    "\n",
    "print(divmod(end_time-start_time, 60)[1],\" secs\")"
   ]
  },
  {
   "cell_type": "code",
   "execution_count": null,
   "metadata": {},
   "outputs": [],
   "source": []
  },
  {
   "cell_type": "code",
   "execution_count": null,
   "metadata": {},
   "outputs": [],
   "source": []
  },
  {
   "cell_type": "code",
   "execution_count": 8,
   "metadata": {},
   "outputs": [
    {
     "data": {
      "text/plain": [
       "[1, 1, 2, 1, 2, 2, 2, 2, 1, 1]"
      ]
     },
     "execution_count": 8,
     "metadata": {},
     "output_type": "execute_result"
    }
   ],
   "source": [
    "import random\n",
    "# import xrange\n",
    "random.seed(1)\n",
    "arr = [random.randint(1, 2) for i in range(10)]\n",
    "arr"
   ]
  },
  {
   "cell_type": "code",
   "execution_count": null,
   "metadata": {},
   "outputs": [],
   "source": []
  },
  {
   "cell_type": "code",
   "execution_count": null,
   "metadata": {},
   "outputs": [],
   "source": []
  },
  {
   "cell_type": "code",
   "execution_count": null,
   "metadata": {},
   "outputs": [],
   "source": []
  },
  {
   "cell_type": "code",
   "execution_count": null,
   "metadata": {},
   "outputs": [],
   "source": []
  },
  {
   "cell_type": "code",
   "execution_count": null,
   "metadata": {},
   "outputs": [],
   "source": []
  },
  {
   "cell_type": "code",
   "execution_count": null,
   "metadata": {},
   "outputs": [],
   "source": []
  },
  {
   "cell_type": "code",
   "execution_count": null,
   "metadata": {},
   "outputs": [],
   "source": []
  },
  {
   "cell_type": "code",
   "execution_count": null,
   "metadata": {},
   "outputs": [],
   "source": []
  },
  {
   "cell_type": "code",
   "execution_count": null,
   "metadata": {},
   "outputs": [],
   "source": []
  },
  {
   "cell_type": "code",
   "execution_count": null,
   "metadata": {},
   "outputs": [],
   "source": []
  },
  {
   "cell_type": "code",
   "execution_count": null,
   "metadata": {},
   "outputs": [],
   "source": []
  },
  {
   "cell_type": "code",
   "execution_count": null,
   "metadata": {},
   "outputs": [],
   "source": []
  },
  {
   "cell_type": "code",
   "execution_count": null,
   "metadata": {},
   "outputs": [],
   "source": []
  },
  {
   "cell_type": "code",
   "execution_count": null,
   "metadata": {},
   "outputs": [],
   "source": []
  },
  {
   "cell_type": "code",
   "execution_count": null,
   "metadata": {},
   "outputs": [],
   "source": []
  },
  {
   "cell_type": "code",
   "execution_count": null,
   "metadata": {},
   "outputs": [],
   "source": []
  },
  {
   "cell_type": "code",
   "execution_count": null,
   "metadata": {},
   "outputs": [],
   "source": []
  },
  {
   "cell_type": "code",
   "execution_count": null,
   "metadata": {},
   "outputs": [],
   "source": []
  },
  {
   "cell_type": "code",
   "execution_count": null,
   "metadata": {},
   "outputs": [],
   "source": []
  },
  {
   "cell_type": "code",
   "execution_count": null,
   "metadata": {},
   "outputs": [],
   "source": []
  },
  {
   "cell_type": "code",
   "execution_count": null,
   "metadata": {},
   "outputs": [],
   "source": []
  },
  {
   "cell_type": "code",
   "execution_count": 57,
   "metadata": {},
   "outputs": [],
   "source": [
    "import mysql.connector as conn\n",
    "import pandas as pd"
   ]
  },
  {
   "cell_type": "code",
   "execution_count": 54,
   "metadata": {},
   "outputs": [],
   "source": [
    "mydb= conn.connect(host=\"localhost\", port= \"3306\", database= \"sakila\", user= \"root\", password= \"root\",auth_plugin='mysql_native_password')"
   ]
  },
  {
   "cell_type": "code",
   "execution_count": 62,
   "metadata": {},
   "outputs": [],
   "source": [
    "sakila_actor= pd.read_sql(sql= \"select * from sakila.actor\", con=mydb)\n",
    "time.sleep(4)"
   ]
  },
  {
   "cell_type": "code",
   "execution_count": 63,
   "metadata": {},
   "outputs": [
    {
     "data": {
      "text/plain": [
       "200"
      ]
     },
     "execution_count": 63,
     "metadata": {},
     "output_type": "execute_result"
    }
   ],
   "source": [
    "len(sakila_actor.index)"
   ]
  },
  {
   "cell_type": "code",
   "execution_count": 68,
   "metadata": {},
   "outputs": [
    {
     "data": {
      "text/plain": [
       "actor_id       200\n",
       "first_name     200\n",
       "last_name      200\n",
       "last_update    200\n",
       "dtype: int64"
      ]
     },
     "execution_count": 68,
     "metadata": {},
     "output_type": "execute_result"
    }
   ],
   "source": [
    "sakila_actor.count()"
   ]
  },
  {
   "cell_type": "code",
   "execution_count": null,
   "metadata": {},
   "outputs": [],
   "source": []
  },
  {
   "cell_type": "code",
   "execution_count": null,
   "metadata": {},
   "outputs": [],
   "source": []
  },
  {
   "cell_type": "code",
   "execution_count": null,
   "metadata": {},
   "outputs": [],
   "source": []
  },
  {
   "cell_type": "code",
   "execution_count": null,
   "metadata": {},
   "outputs": [],
   "source": []
  },
  {
   "cell_type": "code",
   "execution_count": null,
   "metadata": {},
   "outputs": [],
   "source": []
  },
  {
   "cell_type": "code",
   "execution_count": null,
   "metadata": {},
   "outputs": [],
   "source": []
  }
 ],
 "metadata": {
  "kernelspec": {
   "display_name": "Python 3",
   "language": "python",
   "name": "python3"
  },
  "language_info": {
   "codemirror_mode": {
    "name": "ipython",
    "version": 3
   },
   "file_extension": ".py",
   "mimetype": "text/x-python",
   "name": "python",
   "nbconvert_exporter": "python",
   "pygments_lexer": "ipython3",
   "version": "3.7.4"
  }
 },
 "nbformat": 4,
 "nbformat_minor": 2
}

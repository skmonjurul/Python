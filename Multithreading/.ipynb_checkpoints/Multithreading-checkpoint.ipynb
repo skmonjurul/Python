{
 "cells": [
  {
   "cell_type": "markdown",
   "metadata": {},
   "source": [
    "youtube link:\n",
    "https://www.youtube.com/playlist?list=PLeo1K3hjS3uub3PRhdoCTY8BxMKSW7RjN"
   ]
  },
  {
   "cell_type": "code",
   "execution_count": 82,
   "metadata": {},
   "outputs": [
    {
     "name": "stdout",
     "output_type": "stream",
     "text": [
      "calculate square\n",
      "calculate cubesum of a and b=  30\n",
      "\n",
      "square=  1\n",
      "cube=  1\n",
      "square=  4\n",
      "cube=  8\n",
      "cube= square=  27\n",
      " 9\n",
      "square= cube=  64\n",
      " 16\n",
      "cube=  125\n",
      "square=  25\n",
      "cube=  [1, 8, 27, 64, 125] sqr=  [1, 4, 9, 16, 25]\n",
      "5.032599210739136  secs\n"
     ]
    }
   ],
   "source": [
    "# https://github.com/codebasics/py/blob/master/Multiprocessing/multthreading_introduction.py\n",
    "\n",
    "import time\n",
    "import threading\n",
    "from datetime import datetime\n",
    "\n",
    "cube_arr=[]\n",
    "sq_arr=[]\n",
    "start= time.time()\n",
    "def calc_square(numbers):\n",
    "    print(\"calculate square\")\n",
    "    for i in numbers:\n",
    "        time.sleep(1)\n",
    "        print(\"square= \",i*i)\n",
    "        sq_arr.append(i*i)\n",
    "        \n",
    "def calc_cube(numbers):\n",
    "    print(\"calculate cube\")\n",
    "    for i in numbers:\n",
    "        time.sleep(1)\n",
    "        print(\"cube= \",i*i*i)\n",
    "        cube_arr.append(i*i*i)\n",
    "        \n",
    "\n",
    "arr=[1,2,3,4,5]\n",
    "\n",
    "t1= threading.Thread(target=calc_square, args=(arr,))\n",
    "t2= threading.Thread(target=calc_cube, args=(arr,))\n",
    "\n",
    "t1.start()\n",
    "t2.start()\n",
    "\n",
    "# a=10\n",
    "# b=20\n",
    "# c=a+b\n",
    "# print(\"sum of a and b= \",c)\n",
    "\n",
    "t1.join()\n",
    "t2.join()\n",
    "\n",
    "# calc_square(arr)\n",
    "# calc_cube(arr)\n",
    "\n",
    "print(\"cube= \",cube_arr,\"sqr= \",sq_arr)\n",
    "\n",
    "mins,ses= divmod(time.time()-start, 60)\n",
    "print(ses,\" secs\")"
   ]
  },
  {
   "cell_type": "code",
   "execution_count": null,
   "metadata": {},
   "outputs": [],
   "source": []
  },
  {
   "cell_type": "markdown",
   "metadata": {},
   "source": [
    "video: 2\n",
    "multiprocessing vs multithreading"
   ]
  },
  {
   "cell_type": "code",
   "execution_count": null,
   "metadata": {},
   "outputs": [],
   "source": []
  },
  {
   "cell_type": "code",
   "execution_count": 4,
   "metadata": {},
   "outputs": [
    {
     "name": "stdout",
     "output_type": "stream",
     "text": [
      "9\n",
      "100\n",
      "4\n",
      "25\n",
      "4\n",
      "64\n",
      "64\n",
      "64\n",
      "49\n",
      "16\n",
      "[9, 100, 4, 25, 4, 64, 64, 64, 49, 16]\n",
      "10.056770086288452  secs\n",
      "arr_global, inside main p2:  []\n",
      "0.2208559513092041\n"
     ]
    }
   ],
   "source": [
    "import time\n",
    "import multiprocessing, threading\n",
    "import random\n",
    "\n",
    "start_time= time.time()\n",
    "\n",
    "square=[]\n",
    "def calc_square(arr):\n",
    "    for i in arr:\n",
    "        time.sleep(1)\n",
    "        print(i*i)\n",
    "        square.append(i*i)\n",
    "\n",
    "random.seed(1)        \n",
    "arr= [random.randint(1,10) for i in range(10)]\n",
    "\n",
    "# multithreading\n",
    "p2= threading.Thread(target= calc_square, args= (arr,))\n",
    "p2.start()\n",
    "p2.join()\n",
    "\n",
    "\n",
    "end_time=time.time()\n",
    "print(square)\n",
    "\n",
    "print(divmod(end_time-start_time, 60)[1],\" secs\")\n",
    "\n",
    "\n",
    "# but if same thing is used in multiprocessing,\n",
    "# the array will not get printed, as\n",
    "# separate processes have separate heap allocations/address space.\n",
    "# Hence, the new process will create its own separate array.\n",
    "# multiple threads in a process -> multithreading\n",
    "# such multiple processes-> multiple processeing\n",
    "\n",
    "# note: this will not run in jupyuter notebook, only in command line\n",
    "# run file \"C:\\Users\\sabyasachi\\Desktop\\Codes\\Python\\Multithreading\\multiprocessingTestFile.py\" \n",
    "# from cmd line anaconda for o/p display\n",
    "\n",
    "start_time= time.time()\n",
    "\n",
    "arr_global=[]\n",
    "\n",
    "def calc_cube(arr):\n",
    "    for i in arr:\n",
    "        print(i*i*i)\n",
    "        arr_global.append(i*i*i)\n",
    "    print(\"arr_global inside process p2: \",arr_global)\n",
    "\n",
    "if __name__==\"__main__\":\n",
    "    random.seed(1)\n",
    "    arr= [random.randint(1,10) for i in range(10)]\n",
    "\n",
    "    p2= multiprocessing.Process(target= calc_cube, args=(arr,))\n",
    "    p2.start()\n",
    "    p2.join()\n",
    "\n",
    "    print(\"arr_global, inside main p2: \", arr_global)\n",
    "    \n",
    "    end_time= time.time()\n",
    "    print(end_time-start_time)"
   ]
  },
  {
   "cell_type": "code",
   "execution_count": null,
   "metadata": {},
   "outputs": [],
   "source": []
  },
  {
   "cell_type": "markdown",
   "metadata": {},
   "source": [
    "28. sharing data between processes"
   ]
  },
  {
   "cell_type": "code",
   "execution_count": null,
   "metadata": {},
   "outputs": [],
   "source": [
    "import multiprocessing, threading\n",
    "import time\n",
    "\n",
    "def calc_cube(arr_global,arr_op_fromp1):\n",
    "    time.sleep(5)\n",
    "    return None\n",
    "\n",
    "arr_global=[1,2,3]\n",
    "arr_op_fromp1= multiprocessing.Array('i',len(arr_global))\n",
    "p1= multiprocessing.Process(target= calc_cube, args=(arr_global,arr_op_fromp1))\n"
   ]
  },
  {
   "cell_type": "code",
   "execution_count": null,
   "metadata": {},
   "outputs": [],
   "source": []
  },
  {
   "cell_type": "code",
   "execution_count": null,
   "metadata": {},
   "outputs": [],
   "source": [
    "import multiprocessing\n",
    "\n",
    "def calc_square(numbers, result, v):\n",
    "    v.value = 5.67\n",
    "    for idx, n in enumerate(numbers):\n",
    "        result[idx] = n*n\n",
    "\n",
    "if __name__ == \"__main__\":\n",
    "    numbers = [2,3,5]\n",
    "    result = multiprocessing.Array('i',3)\n",
    "    v = multiprocessing.Value('d', 0.0)\n",
    "    p = multiprocessing.Process(target=calc_square, args=(numbers, result, v))\n",
    "\n",
    "    p.start()\n",
    "    p.join()\n",
    "\n",
    "    print(v.value)\n",
    "    print(result[:])"
   ]
  },
  {
   "cell_type": "code",
   "execution_count": null,
   "metadata": {},
   "outputs": [],
   "source": []
  },
  {
   "cell_type": "markdown",
   "metadata": {},
   "source": [
    "video: 29. "
   ]
  },
  {
   "cell_type": "code",
   "execution_count": null,
   "metadata": {},
   "outputs": [],
   "source": [
    "import multiprocessing\n",
    "import time\n",
    "\n",
    "def cal_cube(arr, queue):\n",
    "    # time.sleep(1)\n",
    "    for i in arr:\n",
    "        print(i)\n",
    "        queue.put(i*i)\n",
    "\n",
    "if __name__==\"__main__\":\n",
    "    arr_global=[1,2,3,4]\n",
    "    queue= multiprocessing.Queue()\n",
    "    p1= multiprocessing.Process(target= cal_cube, args= (arr_global, queue))\n",
    "\n",
    "    p1.start()\n",
    "    p1.join()\n",
    "\n",
    "    while queue.empty() is False:\n",
    "        print(queue.get())"
   ]
  },
  {
   "cell_type": "code",
   "execution_count": null,
   "metadata": {},
   "outputs": [],
   "source": []
  },
  {
   "cell_type": "code",
   "execution_count": null,
   "metadata": {},
   "outputs": [],
   "source": []
  },
  {
   "cell_type": "code",
   "execution_count": null,
   "metadata": {},
   "outputs": [],
   "source": []
  },
  {
   "cell_type": "code",
   "execution_count": null,
   "metadata": {},
   "outputs": [],
   "source": []
  }
 ],
 "metadata": {
  "kernelspec": {
   "display_name": "Python 3",
   "language": "python",
   "name": "python3"
  },
  "language_info": {
   "codemirror_mode": {
    "name": "ipython",
    "version": 3
   },
   "file_extension": ".py",
   "mimetype": "text/x-python",
   "name": "python",
   "nbconvert_exporter": "python",
   "pygments_lexer": "ipython3",
   "version": "3.7.4"
  }
 },
 "nbformat": 4,
 "nbformat_minor": 2
}

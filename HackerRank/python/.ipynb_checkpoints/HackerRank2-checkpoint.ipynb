{
 "cells": [
  {
   "cell_type": "code",
   "execution_count": 7,
   "metadata": {},
   "outputs": [
    {
     "name": "stdout",
     "output_type": "stream",
     "text": [
      "s\n"
     ]
    },
    {
     "ename": "ValueError",
     "evalue": "invalid literal for int() with base 10: 's'",
     "output_type": "error",
     "traceback": [
      "\u001b[1;31m---------------------------------------------------------------------------\u001b[0m",
      "\u001b[1;31mValueError\u001b[0m                                Traceback (most recent call last)",
      "\u001b[1;32m<ipython-input-7-72807b8645ec>\u001b[0m in \u001b[0;36m<module>\u001b[1;34m\u001b[0m\n\u001b[0;32m      1\u001b[0m \u001b[1;32mif\u001b[0m \u001b[0m__name__\u001b[0m\u001b[1;33m==\u001b[0m\u001b[1;34m'__main__'\u001b[0m\u001b[1;33m:\u001b[0m\u001b[1;33m\u001b[0m\u001b[1;33m\u001b[0m\u001b[0m\n\u001b[1;32m----> 2\u001b[1;33m     \u001b[0mnum\u001b[0m\u001b[1;33m=\u001b[0m\u001b[0mint\u001b[0m\u001b[1;33m(\u001b[0m\u001b[0minput\u001b[0m\u001b[1;33m(\u001b[0m\u001b[1;33m)\u001b[0m\u001b[1;33m)\u001b[0m\u001b[1;33m\u001b[0m\u001b[1;33m\u001b[0m\u001b[0m\n\u001b[0m\u001b[0;32m      3\u001b[0m \u001b[1;31m#     tup=()\u001b[0m\u001b[1;33m\u001b[0m\u001b[1;33m\u001b[0m\u001b[1;33m\u001b[0m\u001b[0m\n\u001b[0;32m      4\u001b[0m     \u001b[0mtup\u001b[0m\u001b[1;33m=\u001b[0m \u001b[0mtuple\u001b[0m\u001b[1;33m(\u001b[0m\u001b[0mmap\u001b[0m\u001b[1;33m(\u001b[0m\u001b[0mint\u001b[0m\u001b[1;33m,\u001b[0m\u001b[0minput\u001b[0m\u001b[1;33m(\u001b[0m\u001b[1;33m)\u001b[0m\u001b[1;33m.\u001b[0m\u001b[0msplit\u001b[0m\u001b[1;33m(\u001b[0m\u001b[1;33m)\u001b[0m\u001b[1;33m)\u001b[0m\u001b[1;33m)\u001b[0m\u001b[1;33m\u001b[0m\u001b[1;33m\u001b[0m\u001b[0m\n\u001b[0;32m      5\u001b[0m \u001b[1;31m#     print(type(tup))\u001b[0m\u001b[1;33m\u001b[0m\u001b[1;33m\u001b[0m\u001b[1;33m\u001b[0m\u001b[0m\n",
      "\u001b[1;31mValueError\u001b[0m: invalid literal for int() with base 10: 's'"
     ]
    }
   ],
   "source": [
    "if __name__=='__main__':\n",
    "    num=int(input())\n",
    "#     tup=()\n",
    "    tup= tuple(map(int,input().split()))\n",
    "#     print(type(tup))\n",
    "#     print(tup)\n",
    "    print(hash(tup))"
   ]
  },
  {
   "cell_type": "code",
   "execution_count": null,
   "metadata": {},
   "outputs": [],
   "source": [
    "import numpy as np\n",
    "A=np.array(list(map(int,input().split())))\n",
    "print(A)\n",
    "print(type(A))"
   ]
  },
  {
   "cell_type": "code",
   "execution_count": 9,
   "metadata": {},
   "outputs": [
    {
     "name": "stdout",
     "output_type": "stream",
     "text": [
      "1\n"
     ]
    }
   ],
   "source": [
    "lis=[1,2,3]\n",
    "a,b,c=lis\n",
    "print(a)"
   ]
  },
  {
   "cell_type": "code",
   "execution_count": 23,
   "metadata": {},
   "outputs": [
    {
     "name": "stdout",
     "output_type": "stream",
     "text": [
      "enter the stringabcdabc\n",
      "enter the substringabc\n",
      "2\n"
     ]
    }
   ],
   "source": [
    "if __name__=='__main__':\n",
    "    string=input('enter the string').strip().lower()\n",
    "    substr=input('enter the substring').strip().lower()\n",
    "    if(1<=len(string)<=200):\n",
    "        listt=[1 for i in range(len(string)-len(substr)+1) if string[i:i+len(substr)]==substr]\n",
    "#         sum(listt)\n",
    "        print(sum(listt))\n",
    "#         print(sum(i_s))"
   ]
  },
  {
   "cell_type": "code",
   "execution_count": 14,
   "metadata": {},
   "outputs": [
    {
     "name": "stdout",
     "output_type": "stream",
     "text": [
      "123\n",
      "True\n",
      "False\n",
      "True\n",
      "False\n",
      "False\n",
      "\n",
      "True\n",
      "False\n",
      "True\n",
      "False\n",
      "False\n",
      "\n",
      "123\n",
      "True\n",
      "False\n",
      "True\n",
      "False\n",
      "False\n"
     ]
    }
   ],
   "source": [
    "s = input()\n",
    "print(any(map(str.isalnum, s)))\n",
    "print(any(map(str.isalpha, s)))\n",
    "print(any(map(str.isdigit, s)))\n",
    "print(any(map(str.islower, s)))\n",
    "print(any(map(str.isupper, s)))\n",
    "print()\n",
    "# or\n",
    "print(any(i.isalnum() for i in s))\n",
    "print(any(i.isalpha() for i in s))\n",
    "print(any(i.isdigit() for i in s))\n",
    "print(any(i.islower() for i in s))\n",
    "print(any(i.isupper() for i in s))\n",
    "print()\n",
    "# or\n",
    "s = input()\n",
    "func = [\".isalnum()\",\".isalpha()\",\".isdigit()\",\".islower()\",\".isupper()\"]\n",
    "for i in func:\n",
    "  eval(\"print (any(char\" + i + \" for char in s))\")"
   ]
  },
  {
   "cell_type": "code",
   "execution_count": 4,
   "metadata": {},
   "outputs": [
    {
     "name": "stdout",
     "output_type": "stream",
     "text": [
      "5\n",
      "    H    \n",
      "   HHH   \n",
      "  HHHHH  \n",
      " HHHHHHH \n",
      "HHHHHHHHH\n",
      "HHHHH          HHHHH\n",
      "HHHHH          HHHHH\n",
      "HHHHH          HHHHH\n",
      "HHHHH          HHHHH\n",
      "HHHHH          HHHHH\n",
      "HHHHH          HHHHH\n",
      "HHHHHHHHHHHHHHHHHHHHHHHHH     \n",
      "HHHHHHHHHHHHHHHHHHHHHHHHH     \n",
      "HHHHHHHHHHHHHHHHHHHHHHHHH     \n",
      "HHHHH          HHHHH\n",
      "HHHHH          HHHHH\n",
      "HHHHH          HHHHH\n",
      "HHHHH          HHHHH\n",
      "HHHHH          HHHHH\n",
      "HHHHH          HHHHH\n",
      "HHHHH\n",
      "HHHH\n",
      "HHH \n",
      "HH  \n",
      "H   \n"
     ]
    }
   ],
   "source": [
    "c='H'\n",
    "thickness=int(input())\n",
    "for i in range(thickness):\n",
    "    print((c*i).rjust(thickness-1,' ')+c+(c*i).ljust(thickness-1,' '))\n",
    "for i in range(thickness+1):\n",
    "    print((c*thickness).ljust(thickness*2,' ')+(c*thickness).rjust(thickness*2,' '))\n",
    "for i in range((thickness+1)//2):\n",
    "    print((c*thickness*5).ljust(thickness*6,' '))\n",
    "for i in range(thickness+1):\n",
    "    print((c*thickness).ljust(thickness*2,' ')+(c*thickness).rjust(thickness*2,' '))\n",
    "for i in range(thickness):\n",
    "    print((c*(thickness-i)).ljust(thickness-1,' '))\n",
    "#     +c+(c*i).ljust(thickness-1,' ')"
   ]
  },
  {
   "cell_type": "code",
   "execution_count": 5,
   "metadata": {},
   "outputs": [
    {
     "ename": "SyntaxError",
     "evalue": "invalid syntax (<ipython-input-5-7f3b09b87b6d>, line 3)",
     "output_type": "error",
     "traceback": [
      "\u001b[1;36m  File \u001b[1;32m\"<ipython-input-5-7f3b09b87b6d>\"\u001b[1;36m, line \u001b[1;32m3\u001b[0m\n\u001b[1;33m    for i in range(thickness)\u001b[0m\n\u001b[1;37m                             ^\u001b[0m\n\u001b[1;31mSyntaxError\u001b[0m\u001b[1;31m:\u001b[0m invalid syntax\n"
     ]
    }
   ],
   "source": [
    "c='H'\n",
    "thickness=input()\n",
    "for i in range(thickness)"
   ]
  },
  {
   "cell_type": "code",
   "execution_count": 15,
   "metadata": {},
   "outputs": [
    {
     "name": "stdout",
     "output_type": "stream",
     "text": [
      "4\n",
      "1 0o1 0x1 0b1\n",
      "2 0o2 0x2 0b10\n",
      "3 0o3 0x3 0b11\n",
      "4 0o4 0x4 0b100\n"
     ]
    }
   ],
   "source": [
    "def print_formatted(dec):\n",
    "    lis='\\n'.join([' '.join([str(i),str(oct(i)),str(hex(i)),str(bin(i))]) for i in range(1,dec+1)])\n",
    "    return lis\n",
    "    \n",
    "num=int(input())\n",
    "if 0<=num<90:\n",
    "    print(print_formatted(num))\n",
    "    "
   ]
  },
  {
   "cell_type": "code",
   "execution_count": 1,
   "metadata": {},
   "outputs": [
    {
     "name": "stdout",
     "output_type": "stream",
     "text": [
      "[[0, 1], [1, 2], [2, 3], [3, 4]]\n"
     ]
    }
   ],
   "source": [
    "lis=[[i,i+1] for i in range(4)]\n",
    "print(lis)"
   ]
  },
  {
   "cell_type": "code",
   "execution_count": 5,
   "metadata": {},
   "outputs": [
    {
     "name": "stdout",
     "output_type": "stream",
     "text": [
      "a\n",
      "A\n"
     ]
    }
   ],
   "source": [
    "a_string = input().split(' ')\n",
    "print(' '.join((word.capitalize() for word in a_string)))"
   ]
  },
  {
   "cell_type": "code",
   "execution_count": 1,
   "metadata": {},
   "outputs": [
    {
     "name": "stdout",
     "output_type": "stream",
     "text": [
      "a\n",
      "kevin\n"
     ]
    }
   ],
   "source": [
    "def minion_game(strn):\n",
    "#     lis=[]\n",
    "    kevsc=0\n",
    "    stusc=0\n",
    "    vow=['a','e','i','o','u']\n",
    "    for i in range(len(strn)):\n",
    "        if strn[i] in vow:\n",
    "           kevsc+= (len(strn)-i)\n",
    "        else:\n",
    "           stusc+= (len(strn)-i)\n",
    "    if kevsc>stusc:\n",
    "        print('kevin')\n",
    "    elif stusc>kevsc:\n",
    "        print('stuart')\n",
    "    else:\n",
    "        print('draw')\n",
    "        \n",
    "    \n",
    "#     print(strn)\n",
    "\n",
    "if __name__=='__main__':\n",
    "    strn= input()\n",
    "    minion_game(strn)"
   ]
  },
  {
   "cell_type": "code",
   "execution_count": 2,
   "metadata": {},
   "outputs": [
    {
     "name": "stdout",
     "output_type": "stream",
     "text": [
      "[2, 3, 4, 5, 6]\n"
     ]
    }
   ],
   "source": [
    "listt=[1,2,3,4,5]\n",
    "# new_list= list(map(lambda x: x+1, listt))\n",
    "\n",
    "print(new_list)"
   ]
  }
 ],
 "metadata": {
  "kernelspec": {
   "display_name": "Python 3",
   "language": "python",
   "name": "python3"
  },
  "language_info": {
   "codemirror_mode": {
    "name": "ipython",
    "version": 3
   },
   "file_extension": ".py",
   "mimetype": "text/x-python",
   "name": "python",
   "nbconvert_exporter": "python",
   "pygments_lexer": "ipython3",
   "version": "3.7.4"
  }
 },
 "nbformat": 4,
 "nbformat_minor": 2
}

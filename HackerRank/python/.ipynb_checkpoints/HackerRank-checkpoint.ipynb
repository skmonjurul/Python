{
 "cells": [
  {
   "cell_type": "code",
   "execution_count": 20,
   "metadata": {},
   "outputs": [
    {
     "data": {
      "text/plain": [
       "'sabyasachi some'"
      ]
     },
     "execution_count": 20,
     "metadata": {},
     "output_type": "execute_result"
    }
   ],
   "source": [
    "import re\n",
    "m=re.match(r'(\\w+) (\\w+)','sabyasachi some')\n",
    "m.group()\n",
    "m.group(0)"
   ]
  },
  {
   "cell_type": "code",
   "execution_count": 25,
   "metadata": {},
   "outputs": [
    {
     "data": {
      "text/plain": [
       "{'S', 'a', 'b', 'c', 'h', 'i', 's', 'y', 'z'}"
      ]
     },
     "execution_count": 25,
     "metadata": {},
     "output_type": "execute_result"
    }
   ],
   "source": [
    "myset=set('Sabyasachi')\n",
    "myset\n",
    "myset.add('z')\n",
    "myset"
   ]
  },
  {
   "cell_type": "code",
   "execution_count": 28,
   "metadata": {},
   "outputs": [
    {
     "name": "stdout",
     "output_type": "stream",
     "text": [
      "{'s': 0}\n",
      "{'s': 0, 'a': 0}\n",
      "{'s': 0, 'a': 0, 'b': 0}\n",
      "{'s': 0, 'a': 0, 'b': 0, 'y': 0}\n"
     ]
    },
    {
     "data": {
      "text/plain": [
       "'a'"
      ]
     },
     "execution_count": 28,
     "metadata": {},
     "output_type": "execute_result"
    }
   ],
   "source": [
    "def firstRepeatedChar(str): \n",
    "  \n",
    "    h = {}  # Create empty hash \n",
    "  \n",
    "    # Traverse each characters in string \n",
    "    # in lower case order \n",
    "    for ch in str: \n",
    "  \n",
    "        # If character is already present \n",
    "        # in hash, return char \n",
    "        if ch in h: \n",
    "            return ch; \n",
    "  \n",
    "        # Add ch to hash \n",
    "        else: \n",
    "            h[ch] = 0\n",
    "            print(h)\n",
    "  \n",
    "#     return '\\0'\n",
    "\n",
    "firstRepeatedChar('sabyasaachi')"
   ]
  },
  {
   "cell_type": "code",
   "execution_count": 39,
   "metadata": {},
   "outputs": [
    {
     "data": {
      "text/plain": [
       "{'s': 2, 'a': 3, 'b': 2, 'y': 1, 'c': 2, 'h': 1, 'i': 1}"
      ]
     },
     "execution_count": 39,
     "metadata": {},
     "output_type": "execute_result"
    }
   ],
   "source": [
    "l='sabbyasacchi'\n",
    "# len(l)\n",
    "k=0\n",
    "dictt={}\n",
    "for i in l:\n",
    "    for j in range(len(l)):\n",
    "        if i==l[j]:\n",
    "            k+=1\n",
    "#     print(str(i)+' is present '+str(k)+' times')\n",
    "    dictt[i]=k\n",
    "    k=0\n",
    "dictt"
   ]
  },
  {
   "cell_type": "code",
   "execution_count": 43,
   "metadata": {},
   "outputs": [
    {
     "data": {
      "text/plain": [
       "['a', 'a', 'a', 'a', 'b', 'b', 'c', 'h', 'i', 's', 's', 'y']"
      ]
     },
     "execution_count": 43,
     "metadata": {},
     "output_type": "execute_result"
    }
   ],
   "source": [
    "l=[1,2,6,5,3]\n",
    "ls=sorted(l,reverse=True)\n",
    "str='sabbyaasachi'\n",
    "strSort=sorted(str)\n",
    "strSort"
   ]
  },
  {
   "cell_type": "code",
   "execution_count": 48,
   "metadata": {},
   "outputs": [
    {
     "name": "stdout",
     "output_type": "stream",
     "text": [
      "[1, 1, 2, 4, 5]\n"
     ]
    }
   ],
   "source": [
    "str=[5,4,1,2,1]\n",
    "def bubble_sort(str):\n",
    "    for i in range(len(str)):\n",
    "        for j in range(0,len(str)-i-1):\n",
    "            if(str[j]>str[j+1]):\n",
    "                str[j+1],str[j]=str[j],str[j+1]\n",
    "    return str\n",
    "sorted_str=bubble_sort(str)\n",
    "print(sorted_str)"
   ]
  },
  {
   "cell_type": "code",
   "execution_count": 57,
   "metadata": {},
   "outputs": [
    {
     "name": "stdout",
     "output_type": "stream",
     "text": [
      "['a', 'a', 'a', 'b', 'c', 'h', 'i', 's', 's', 'y']\n"
     ]
    },
    {
     "data": {
      "text/plain": [
       "'a'"
      ]
     },
     "execution_count": 57,
     "metadata": {},
     "output_type": "execute_result"
    }
   ],
   "source": [
    "str1='sabyasachi'\n",
    "def first_repeating(str1):\n",
    "    str_sorted=sorted(str1)\n",
    "    print(str_sorted)\n",
    "    for i in range(len(str_sorted)):\n",
    "        if str_sorted[i]==str_sorted[i+1]:\n",
    "            return str_sorted[i]\n",
    "\n",
    "first_repeating(str1)"
   ]
  },
  {
   "cell_type": "code",
   "execution_count": 59,
   "metadata": {},
   "outputs": [
    {
     "name": "stdout",
     "output_type": "stream",
     "text": [
      "sabby\n"
     ]
    }
   ],
   "source": [
    "if __name__=='__main__':\n",
    "    print('sabby')"
   ]
  },
  {
   "cell_type": "code",
   "execution_count": 70,
   "metadata": {},
   "outputs": [
    {
     "data": {
      "text/plain": [
       "[[1, 2], [3, 4]]"
      ]
     },
     "execution_count": 70,
     "metadata": {},
     "output_type": "execute_result"
    }
   ],
   "source": [
    "ar=[]\n",
    "ar.append([1,2])\n",
    "ar.append([3,4])\n",
    "# ar[0]=1\n",
    "ar"
   ]
  },
  {
   "cell_type": "code",
   "execution_count": 75,
   "metadata": {},
   "outputs": [
    {
     "name": "stdout",
     "output_type": "stream",
     "text": [
      "0 1 "
     ]
    }
   ],
   "source": [
    "for i in range(2):\n",
    "    print(i,end=' ')"
   ]
  },
  {
   "cell_type": "code",
   "execution_count": 1,
   "metadata": {},
   "outputs": [
    {
     "name": "stdout",
     "output_type": "stream",
     "text": [
      "5\n",
      "1 2 3 4\n",
      "[4, 3, 2, 1]\n",
      "4\n",
      "3[4, 3, 2, 1]\n"
     ]
    }
   ],
   "source": [
    "if __name__ == '__main__':\n",
    "    n = int(input())\n",
    "    arr = list(map(int, input().split()))\n",
    "    arrSorted= sorted(arr,reverse=True)\n",
    "    print(arrSorted)\n",
    "    for i in range(len(arrSorted)):\n",
    "        print(arrSorted[i])\n",
    "        if (arrSorted[i]!=arrSorted[i+1]):\n",
    "            print(arrSorted[i+1],end='')\n",
    "            break\n",
    "    print(arrSorted)"
   ]
  },
  {
   "cell_type": "markdown",
   "metadata": {},
   "source": [
    "# if __name__=='__main__':\n",
    "    details=[]\n",
    "    scoreList=[]\n",
    "    for i in range(int(input())):\n",
    "        name=input()\n",
    "        marks=float(input())\n",
    "        details.append([name,marks])\n",
    "        scoreList.append(marks)\n",
    "    print(details)\n",
    "    print(scoreList)\n",
    "    secondLast=sorted(scoreList)[1]\n",
    "    print(scoreSorted)\n",
    "    for i in details:\n",
    "        if i[1]==secondLast:\n",
    "            print(i[0])\n",
    "#     detailsSorted= sorted(details,reverse=True,key= lambda x: x[1])\n",
    "#     print(detailsSorted)\n",
    "#     for i in detailsSorted:\n",
    "#         if detailsSorted[i]!=detailsSorted[i+1]:\n",
    "#             print()"
   ]
  },
  {
   "cell_type": "code",
   "execution_count": 20,
   "metadata": {},
   "outputs": [
    {
     "name": "stdout",
     "output_type": "stream",
     "text": [
      "d\n"
     ]
    },
    {
     "ename": "ValueError",
     "evalue": "invalid literal for int() with base 10: 'd'",
     "output_type": "error",
     "traceback": [
      "\u001b[1;31m---------------------------------------------------------------------------\u001b[0m",
      "\u001b[1;31mValueError\u001b[0m                                Traceback (most recent call last)",
      "\u001b[1;32m<ipython-input-20-544ab58a44ce>\u001b[0m in \u001b[0;36m<module>\u001b[1;34m\u001b[0m\n\u001b[0;32m      3\u001b[0m     \u001b[0mdetails\u001b[0m\u001b[1;33m=\u001b[0m\u001b[1;33m[\u001b[0m\u001b[1;33m]\u001b[0m\u001b[1;33m\u001b[0m\u001b[1;33m\u001b[0m\u001b[0m\n\u001b[0;32m      4\u001b[0m     \u001b[0mscoreList\u001b[0m\u001b[1;33m=\u001b[0m\u001b[1;33m[\u001b[0m\u001b[1;33m]\u001b[0m\u001b[1;33m\u001b[0m\u001b[1;33m\u001b[0m\u001b[0m\n\u001b[1;32m----> 5\u001b[1;33m     \u001b[1;32mfor\u001b[0m \u001b[0mi\u001b[0m \u001b[1;32min\u001b[0m \u001b[0mrange\u001b[0m\u001b[1;33m(\u001b[0m\u001b[0mint\u001b[0m\u001b[1;33m(\u001b[0m\u001b[0minput\u001b[0m\u001b[1;33m(\u001b[0m\u001b[1;33m)\u001b[0m\u001b[1;33m)\u001b[0m\u001b[1;33m)\u001b[0m\u001b[1;33m:\u001b[0m\u001b[1;33m\u001b[0m\u001b[1;33m\u001b[0m\u001b[0m\n\u001b[0m\u001b[0;32m      6\u001b[0m         \u001b[0mname\u001b[0m \u001b[1;33m=\u001b[0m \u001b[0minput\u001b[0m\u001b[1;33m(\u001b[0m\u001b[1;33m)\u001b[0m\u001b[1;33m\u001b[0m\u001b[1;33m\u001b[0m\u001b[0m\n\u001b[0;32m      7\u001b[0m         \u001b[0mscore\u001b[0m \u001b[1;33m=\u001b[0m \u001b[0mfloat\u001b[0m\u001b[1;33m(\u001b[0m\u001b[0minput\u001b[0m\u001b[1;33m(\u001b[0m\u001b[1;33m)\u001b[0m\u001b[1;33m)\u001b[0m\u001b[1;33m\u001b[0m\u001b[1;33m\u001b[0m\u001b[0m\n",
      "\u001b[1;31mValueError\u001b[0m: invalid literal for int() with base 10: 'd'"
     ]
    }
   ],
   "source": [
    "import numpy as np\n",
    "if __name__ == '__main__':\n",
    "    details=[]\n",
    "    scoreList=[]\n",
    "    for i in range(int(input())):\n",
    "        name = input()\n",
    "        score = float(input())\n",
    "        details.append([name,score])\n",
    "        scoreList.append(score)\n",
    "#     distinctScores=sorted(list(np.unique(np.array(scoreList))))\n",
    "    scoreSet=sorted(list(set(scoreList)))[1]\n",
    "    print(scoreSet)\n",
    "#     secondLast=distinctScores[1]\n",
    "    \n",
    "#     lastNames=[i[0] for i in details if i[1]==secondLastScore]\n",
    "#     print(lastNames)\n",
    "#     lastNamesSorted=sorted(lastNames)\n",
    "#     print(lastNamesSorted)\n",
    "#     for i in range(len(lastNamesSorted)-1):\n",
    "#         print(lastNamesSorted[i])\n",
    "#     print(''.join(lastNamesSorted[len(lastNamesSorted)-1:]),end='')"
   ]
  },
  {
   "cell_type": "code",
   "execution_count": 1,
   "metadata": {},
   "outputs": [
    {
     "name": "stdout",
     "output_type": "stream",
     "text": [
      "enter the number of students:\n"
     ]
    },
    {
     "ename": "ValueError",
     "evalue": "invalid literal for int() with base 10: ''",
     "output_type": "error",
     "traceback": [
      "\u001b[1;31m---------------------------------------------------------------------------\u001b[0m",
      "\u001b[1;31mValueError\u001b[0m                                Traceback (most recent call last)",
      "\u001b[1;32m<ipython-input-1-6546fc60064d>\u001b[0m in \u001b[0;36m<module>\u001b[1;34m\u001b[0m\n\u001b[0;32m      1\u001b[0m \u001b[1;32mif\u001b[0m \u001b[0m__name__\u001b[0m\u001b[1;33m==\u001b[0m\u001b[1;34m'__main__'\u001b[0m\u001b[1;33m:\u001b[0m\u001b[1;33m\u001b[0m\u001b[1;33m\u001b[0m\u001b[0m\n\u001b[1;32m----> 2\u001b[1;33m     \u001b[0mnum\u001b[0m\u001b[1;33m=\u001b[0m\u001b[0mint\u001b[0m\u001b[1;33m(\u001b[0m\u001b[0minput\u001b[0m\u001b[1;33m(\u001b[0m\u001b[1;34m'enter the number of students:'\u001b[0m\u001b[1;33m)\u001b[0m\u001b[1;33m)\u001b[0m\u001b[1;33m\u001b[0m\u001b[1;33m\u001b[0m\u001b[0m\n\u001b[0m\u001b[0;32m      3\u001b[0m     \u001b[0mnameDict\u001b[0m\u001b[1;33m=\u001b[0m\u001b[1;33m{\u001b[0m\u001b[1;33m}\u001b[0m\u001b[1;33m\u001b[0m\u001b[1;33m\u001b[0m\u001b[0m\n\u001b[0;32m      4\u001b[0m     \u001b[1;32mfor\u001b[0m \u001b[0mi\u001b[0m \u001b[1;32min\u001b[0m \u001b[0mrange\u001b[0m\u001b[1;33m(\u001b[0m\u001b[0mnum\u001b[0m\u001b[1;33m)\u001b[0m\u001b[1;33m:\u001b[0m\u001b[1;33m\u001b[0m\u001b[1;33m\u001b[0m\u001b[0m\n\u001b[0;32m      5\u001b[0m         \u001b[0mall_details\u001b[0m\u001b[1;33m=\u001b[0m\u001b[0minput\u001b[0m\u001b[1;33m(\u001b[0m\u001b[1;34m'enter name and marks space separated: '\u001b[0m\u001b[1;33m)\u001b[0m\u001b[1;33m.\u001b[0m\u001b[0msplit\u001b[0m\u001b[1;33m(\u001b[0m\u001b[1;33m)\u001b[0m\u001b[1;33m\u001b[0m\u001b[1;33m\u001b[0m\u001b[0m\n",
      "\u001b[1;31mValueError\u001b[0m: invalid literal for int() with base 10: ''"
     ]
    }
   ],
   "source": [
    "if __name__=='__main__':\n",
    "    num=int(input('enter the number of students:'))\n",
    "    nameDict={}\n",
    "    for i in range(num):\n",
    "        all_details=input('enter name and marks space separated: ').split()\n",
    "#         marks=list(map(float,input('enter marks: ').split(' ')))\n",
    "        name=all_details[0]\n",
    "        marksList=list(map(float,all_details[1:]))\n",
    "        nameDict[name]=marksList\n",
    "    print(nameDict)\n",
    "    stdName=input('enter the student name: ')\n",
    "#     print(nameDict[stdName])\n",
    "    print(sum(nameDict[stdName])/len(nameDict[stdName]))\n",
    "#     print(nameDict)"
   ]
  },
  {
   "cell_type": "code",
   "execution_count": null,
   "metadata": {},
   "outputs": [],
   "source": []
  },
  {
   "cell_type": "code",
   "execution_count": null,
   "metadata": {},
   "outputs": [],
   "source": []
  },
  {
   "cell_type": "code",
   "execution_count": null,
   "metadata": {},
   "outputs": [],
   "source": []
  },
  {
   "cell_type": "code",
   "execution_count": 27,
   "metadata": {},
   "outputs": [
    {
     "name": "stdout",
     "output_type": "stream",
     "text": [
      "enter the number of commandssdzfd\n"
     ]
    },
    {
     "ename": "ValueError",
     "evalue": "invalid literal for int() with base 10: 'sdzfd'",
     "output_type": "error",
     "traceback": [
      "\u001b[1;31m---------------------------------------------------------------------------\u001b[0m",
      "\u001b[1;31mValueError\u001b[0m                                Traceback (most recent call last)",
      "\u001b[1;32m<ipython-input-27-a682f1632ea0>\u001b[0m in \u001b[0;36m<module>\u001b[1;34m\u001b[0m\n\u001b[0;32m      2\u001b[0m     \u001b[0mnum\u001b[0m \u001b[1;33m=\u001b[0m\u001b[0minput\u001b[0m\u001b[1;33m(\u001b[0m\u001b[1;34m'enter the number of commands'\u001b[0m\u001b[1;33m)\u001b[0m\u001b[1;33m\u001b[0m\u001b[1;33m\u001b[0m\u001b[0m\n\u001b[0;32m      3\u001b[0m     \u001b[0ml\u001b[0m\u001b[1;33m=\u001b[0m\u001b[1;33m[\u001b[0m\u001b[1;33m]\u001b[0m\u001b[1;33m\u001b[0m\u001b[1;33m\u001b[0m\u001b[0m\n\u001b[1;32m----> 4\u001b[1;33m     \u001b[1;32mfor\u001b[0m \u001b[0m_\u001b[0m \u001b[1;32min\u001b[0m \u001b[0mrange\u001b[0m\u001b[1;33m(\u001b[0m\u001b[0mint\u001b[0m\u001b[1;33m(\u001b[0m\u001b[0mnum\u001b[0m\u001b[1;33m)\u001b[0m\u001b[1;33m)\u001b[0m\u001b[1;33m:\u001b[0m\u001b[1;33m\u001b[0m\u001b[1;33m\u001b[0m\u001b[0m\n\u001b[0m\u001b[0;32m      5\u001b[0m         \u001b[0mstr\u001b[0m\u001b[1;33m=\u001b[0m \u001b[0minput\u001b[0m\u001b[1;33m(\u001b[0m\u001b[1;34m'enter the command set '\u001b[0m\u001b[1;33m)\u001b[0m\u001b[1;33m.\u001b[0m\u001b[0msplit\u001b[0m\u001b[1;33m(\u001b[0m\u001b[1;33m)\u001b[0m\u001b[1;33m\u001b[0m\u001b[1;33m\u001b[0m\u001b[0m\n\u001b[0;32m      6\u001b[0m         \u001b[0mcmd\u001b[0m\u001b[1;33m=\u001b[0m \u001b[0mstr\u001b[0m\u001b[1;33m[\u001b[0m\u001b[1;36m0\u001b[0m\u001b[1;33m]\u001b[0m\u001b[1;33m\u001b[0m\u001b[1;33m\u001b[0m\u001b[0m\n",
      "\u001b[1;31mValueError\u001b[0m: invalid literal for int() with base 10: 'sdzfd'"
     ]
    }
   ],
   "source": [
    "if __name__=='__main__':\n",
    "    num =input('enter the number of commands')\n",
    "    l=[]\n",
    "    for _ in range(int(num)):\n",
    "        str= input('enter the command set ').split()\n",
    "        cmd= str[0]\n",
    "        values= str[1:]\n",
    "#         print(values)\n",
    "        if cmd!='print':\n",
    "            cmd+= '('+','.join(values)+')'\n",
    "            eval('l.{}'.format(cmd))\n",
    "        else:\n",
    "            eval('{}({})'.format(cmd,l))\n",
    "    print('{}'.format(l))"
   ]
  },
  {
   "cell_type": "markdown",
   "metadata": {},
   "source": [
    "## if __name__=='__main__':\n",
    "    num=int(input('no of items'))\n",
    "    tup=()\n",
    "    for _ in range(num):\n",
    "        element=int(input())\n",
    "        tup.add(element)\n"
   ]
  },
  {
   "cell_type": "code",
   "execution_count": 1,
   "metadata": {},
   "outputs": [],
   "source": [
    "if __name__=='main':\n",
    "    num=int(input('no of items'))\n",
    "    tup=()\n",
    "    for _ in range(num):\n",
    "        element=int(input())\n",
    "        tup.add(element)"
   ]
  },
  {
   "cell_type": "code",
   "execution_count": null,
   "metadata": {},
   "outputs": [],
   "source": [
    "rows=int(input())\n",
    "matrix= map(int, input().rstrip().split()) for _ in range(int(input()))\n",
    "    "
   ]
  }
 ],
 "metadata": {
  "kernelspec": {
   "display_name": "Python 3",
   "language": "python",
   "name": "python3"
  },
  "language_info": {
   "codemirror_mode": {
    "name": "ipython",
    "version": 3
   },
   "file_extension": ".py",
   "mimetype": "text/x-python",
   "name": "python",
   "nbconvert_exporter": "python",
   "pygments_lexer": "ipython3",
   "version": "3.7.4"
  }
 },
 "nbformat": 4,
 "nbformat_minor": 2
}

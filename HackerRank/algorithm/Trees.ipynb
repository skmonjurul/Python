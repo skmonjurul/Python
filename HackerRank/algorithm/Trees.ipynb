{
 "cells": [
  {
   "cell_type": "code",
   "execution_count": null,
   "metadata": {},
   "outputs": [],
   "source": [
    "No of nodes: n\n",
    "No of Binary Search Trees(num(BST)): 2n!/(n!*(n+1)!)\n",
    "No of Binary Trees(num(BT)): num(BST)*n!"
   ]
  },
  {
   "cell_type": "code",
   "execution_count": null,
   "metadata": {},
   "outputs": [],
   "source": [
    "def fact(num):\n",
    "    fact=1\n",
    "    for i in range(1,num+1):\n",
    "        fact*=i\n",
    "    return fact\n",
    "    \n",
    "def nCr(n,r):\n",
    "    return (fact(n)//(fact(r)*fact(n-r)))\n",
    "\n",
    "def BST(nodes):\n",
    "    return(nCr(2*nodes,nodes+1)//nodes)\n",
    "\n",
    "def BT(nodes):\n",
    "    return BST(nodes)*fact(nodes)\n",
    "\n",
    "nodes=5\n",
    "print(BST(5))\n",
    "print(BT(5))"
   ]
  },
  {
   "cell_type": "code",
   "execution_count": null,
   "metadata": {},
   "outputs": [],
   "source": []
  },
  {
   "cell_type": "code",
   "execution_count": null,
   "metadata": {},
   "outputs": [],
   "source": []
  },
  {
   "cell_type": "code",
   "execution_count": null,
   "metadata": {},
   "outputs": [],
   "source": []
  }
 ],
 "metadata": {
  "kernelspec": {
   "display_name": "Python 3",
   "language": "python",
   "name": "python3"
  },
  "language_info": {
   "codemirror_mode": {
    "name": "ipython",
    "version": 3
   },
   "file_extension": ".py",
   "mimetype": "text/x-python",
   "name": "python",
   "nbconvert_exporter": "python",
   "pygments_lexer": "ipython3",
   "version": "3.7.4"
  }
 },
 "nbformat": 4,
 "nbformat_minor": 2
}

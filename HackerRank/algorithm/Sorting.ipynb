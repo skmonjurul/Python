{
 "cells": [
  {
   "cell_type": "markdown",
   "metadata": {},
   "source": [
    "Big Sorting: Easy"
   ]
  },
  {
   "cell_type": "markdown",
   "metadata": {},
   "source": [
    "good way(sorting is done in place):"
   ]
  },
  {
   "cell_type": "code",
   "execution_count": 10,
   "metadata": {},
   "outputs": [],
   "source": [
    "def bigSortingInt(unsorted):\n",
    "    return sorted(unsorted, key=int)"
   ]
  },
  {
   "cell_type": "code",
   "execution_count": 9,
   "metadata": {},
   "outputs": [],
   "source": [
    "def bigSortingSlow(unsorted):\n",
    "    sorted_array= sorted(list(map(int,unsorted)))\n",
    "    return list(map(str,sorted_array))"
   ]
  },
  {
   "cell_type": "code",
   "execution_count": 12,
   "metadata": {},
   "outputs": [],
   "source": [
    "def bigSortingLen(unsorted):\n",
    "    return sorted(unsorted, key= lambda x: (len(x),x))"
   ]
  },
  {
   "cell_type": "markdown",
   "metadata": {},
   "source": [
    "comparing the time:"
   ]
  },
  {
   "cell_type": "code",
   "execution_count": 17,
   "metadata": {},
   "outputs": [
    {
     "name": "stdout",
     "output_type": "stream",
     "text": [
      "0.0024934000000484957\n",
      "0.002424400000109017\n",
      "0.001491600000008475\n"
     ]
    }
   ],
   "source": [
    "import timeit\n",
    "code1= '''def bigSortingInt(unsorted):\n",
    "    return sorted(unsorted, key=int)'''\n",
    "code2= '''def bigSortingSlow(unsorted):\n",
    "    sorted_array= sorted(list(map(int,unsorted)))\n",
    "    return list(map(str,sorted_array))'''\n",
    "code3= '''def bigSortingLen(unsorted):\n",
    "    return sorted(unsorted, key= lambda x: (len(x),x))'''\n",
    "print(timeit.timeit(stmt= code1, number=10000))\n",
    "print(timeit.timeit(stmt= code2, number=10000))\n",
    "print(timeit.timeit(stmt= code3, number=10000))"
   ]
  },
  {
   "cell_type": "code",
   "execution_count": null,
   "metadata": {},
   "outputs": [],
   "source": []
  },
  {
   "cell_type": "code",
   "execution_count": null,
   "metadata": {},
   "outputs": [],
   "source": []
  },
  {
   "cell_type": "code",
   "execution_count": null,
   "metadata": {},
   "outputs": [],
   "source": []
  },
  {
   "cell_type": "code",
   "execution_count": null,
   "metadata": {},
   "outputs": [],
   "source": []
  },
  {
   "cell_type": "markdown",
   "metadata": {},
   "source": [
    "Insertion Sort - Part 1\n",
    "\n",
    "Print the array as a row of space-separated integers each time there is a shift or insertion.\n",
    "\n",
    "Sample Input\n",
    "\n",
    "5\n",
    "2 4 6 8 3\n",
    "Sample Output\n",
    "\n",
    "2 4 6 8 8 \n",
    "2 4 6 6 8 \n",
    "2 4 4 6 8 \n",
    "2 3 4 6 8 "
   ]
  },
  {
   "cell_type": "code",
   "execution_count": 32,
   "metadata": {},
   "outputs": [
    {
     "name": "stdout",
     "output_type": "stream",
     "text": [
      "5\n",
      "2 4 6 8 3\n",
      "2 4 6 8 8\n",
      "2 4 6 6 8\n",
      "2 4 4 6 8\n",
      "2 3 4 6 8\n"
     ]
    }
   ],
   "source": [
    "#!/bin/python3\n",
    "\n",
    "import math\n",
    "import os\n",
    "import random\n",
    "import re\n",
    "import sys\n",
    "\n",
    "# Complete the insertionSort1 function below.\n",
    "def insertionSort1(n, arr):\n",
    "    lent= len(arr)\n",
    "    num= arr[-1]\n",
    "    for i in range(lent-1, -1, -1):\n",
    "        if arr[i-1]>=num:\n",
    "            arr[i]=arr[i-1]\n",
    "            print(' '.join(map(str,arr)))\n",
    "        else:\n",
    "            arr[i]=num\n",
    "            print(' '.join(map(str,arr)))\n",
    "            break\n",
    "\n",
    "if __name__ == '__main__':\n",
    "    n = int(input())\n",
    "\n",
    "    arr = list(map(int, input().rstrip().split()))\n",
    "\n",
    "    insertionSort1(n, arr)"
   ]
  },
  {
   "cell_type": "code",
   "execution_count": null,
   "metadata": {},
   "outputs": [],
   "source": []
  },
  {
   "cell_type": "markdown",
   "metadata": {},
   "source": [
    "Can you modify your previous Insertion Sort implementation to keep track of the number of shifts it makes while sorting? The only thing you should print is the number of shifts made by the algorithm to completely sort the array. A shift occurs when an element's position changes in the array. Do not shift an element if it is not necessary.\n",
    "\n",
    "Function Description\n",
    "\n",
    "Complete the runningTime function in the editor below. It should return an integer representing the number of shifts it will take to sort the given array.\n",
    "\n",
    "runningTime has the following parameter(s):\n",
    "\n",
    "arr: an array of integers"
   ]
  },
  {
   "cell_type": "code",
   "execution_count": null,
   "metadata": {},
   "outputs": [],
   "source": [
    "import math\n",
    "import os\n",
    "import random\n",
    "import re\n",
    "import sys\n",
    "\n",
    "# Complete the runningTime function below.\n",
    "def runningTime(arr):\n",
    "\n",
    "if __name__ == '__main__':\n",
    "#     fptr = open(os.environ['OUTPUT_PATH'], 'w')\n",
    "    n = int(input())\n",
    "    arr = list(map(int, input().rstrip().split()))\n",
    "    result = runningTime(arr)\n",
    "#     fptr.write(str(result) + '\\n')\n",
    "#     fptr.close()"
   ]
  },
  {
   "cell_type": "code",
   "execution_count": null,
   "metadata": {},
   "outputs": [],
   "source": []
  },
  {
   "cell_type": "code",
   "execution_count": 23,
   "metadata": {},
   "outputs": [],
   "source": [
    "[5,4,3,2,1]"
   ]
  },
  {
   "cell_type": "code",
   "execution_count": 99,
   "metadata": {
    "scrolled": true
   },
   "outputs": [
    {
     "name": "stdout",
     "output_type": "stream",
     "text": [
      "\n",
      "first_digit_for_the_loop=  2\n",
      "inside inner, iteration no:  0\n",
      "before swap\n",
      "j=  0 arr[j]=  2 arr[j-1]=  2\n",
      "\n",
      "first_digit_for_the_loop=  1\n",
      "inside inner, iteration no:  1\n",
      "before swap\n",
      "j=  1 arr[j]=  1 arr[j-1]=  2\n",
      "after swap\n",
      "j=  1 arr[j]=  2 arr[j-1]=  2\n",
      "inside inner, iteration no:  0\n",
      "before swap\n",
      "j=  0 arr[j]=  2 arr[j-1]=  2\n",
      "after swap\n",
      "j=  0 arr[j]=  2 arr[j-1]=  2\n",
      "\n",
      "first_digit_for_the_loop=  3\n",
      "inside inner, iteration no:  2\n",
      "before swap\n",
      "j=  2 arr[j]=  3 arr[j-1]=  2\n",
      "inside inner, iteration no:  1\n",
      "before swap\n",
      "j=  1 arr[j]=  2 arr[j-1]=  2\n",
      "inside inner, iteration no:  0\n",
      "before swap\n",
      "j=  0 arr[j]=  2 arr[j-1]=  2\n",
      "\n",
      "first_digit_for_the_loop=  1\n",
      "inside inner, iteration no:  3\n",
      "before swap\n",
      "j=  3 arr[j]=  1 arr[j-1]=  3\n",
      "after swap\n",
      "j=  3 arr[j]=  3 arr[j-1]=  3\n",
      "inside inner, iteration no:  2\n",
      "before swap\n",
      "j=  2 arr[j]=  3 arr[j-1]=  2\n",
      "after swap\n",
      "j=  2 arr[j]=  2 arr[j-1]=  2\n",
      "inside inner, iteration no:  1\n",
      "before swap\n",
      "j=  1 arr[j]=  2 arr[j-1]=  2\n",
      "after swap\n",
      "j=  1 arr[j]=  2 arr[j-1]=  2\n",
      "inside inner, iteration no:  0\n",
      "before swap\n",
      "j=  0 arr[j]=  2 arr[j-1]=  2\n",
      "after swap\n",
      "j=  0 arr[j]=  2 arr[j-1]=  2\n",
      "\n",
      "first_digit_for_the_loop=  2\n",
      "inside inner, iteration no:  4\n",
      "before swap\n",
      "j=  4 arr[j]=  2 arr[j-1]=  3\n",
      "after swap\n",
      "j=  4 arr[j]=  3 arr[j-1]=  3\n",
      "inside inner, iteration no:  3\n",
      "before swap\n",
      "j=  3 arr[j]=  3 arr[j-1]=  2\n",
      "inside inner, iteration no:  2\n",
      "before swap\n",
      "j=  2 arr[j]=  2 arr[j-1]=  2\n",
      "inside inner, iteration no:  1\n",
      "before swap\n",
      "j=  1 arr[j]=  2 arr[j-1]=  2\n",
      "inside inner, iteration no:  0\n",
      "before swap\n",
      "j=  0 arr[j]=  2 arr[j-1]=  3\n",
      "after swap\n",
      "j=  0 arr[j]=  3 arr[j-1]=  3\n"
     ]
    }
   ],
   "source": [
    "arr=[2,1,3,1,2]\n",
    "lent= len(arr)\n",
    "for i in range(lent):\n",
    "#     print(arr[i],i)\n",
    "    print()\n",
    "    first_digit_for_the_loop=arr[i]\n",
    "    print(\"first_digit_for_the_loop= \",first_digit_for_the_loop)\n",
    "    for j in range(i,-1,-1):\n",
    "        print(\"inside inner, iteration no: \",j)\n",
    "        print(\"before swap\")\n",
    "        print(\"j= \",j,\"arr[j]= \",arr[j],\"arr[j-1]= \",arr[j-1])\n",
    "        if (arr[j-1]>first_digit_for_the_loop):\n",
    "#             print()\n",
    "            arr[j]=arr[j-1]\n",
    "            print(\"after swap\")\n",
    "            print(\"j= \",j,\"arr[j]= \",arr[j],\"arr[j-1]= \",arr[j-1])\n",
    "#             print(arr)"
   ]
  },
  {
   "cell_type": "code",
   "execution_count": null,
   "metadata": {},
   "outputs": [],
   "source": []
  },
  {
   "cell_type": "code",
   "execution_count": 22,
   "metadata": {},
   "outputs": [
    {
     "name": "stdout",
     "output_type": "stream",
     "text": [
      "[2, 3, 4, 5, 1]\n",
      "[1, 2, 3, 4, 5]\n"
     ]
    }
   ],
   "source": [
    "arr=[2,3,4,5,1]\n",
    "print(arr)\n",
    "lent=len(arr)\n",
    "num=arr[-1]\n",
    "for i in range(lent-1,-1,-1):\n",
    "    if (i-1>=0 and arr[i-1]>=num):\n",
    "#         print(i,arr[i-1],arr[i])\n",
    "        arr[i]=arr[i-1]\n",
    "#         print(arr)\n",
    "    else:\n",
    "        arr[i]=num\n",
    "print(arr)"
   ]
  },
  {
   "cell_type": "code",
   "execution_count": 34,
   "metadata": {
    "collapsed": true
   },
   "outputs": [
    {
     "name": "stdout",
     "output_type": "stream",
     "text": [
      "\n",
      "2\n",
      "0 2\n",
      "\n",
      "3\n",
      "1 3\n",
      "3\n",
      "0 2\n",
      "\n",
      "4\n",
      "2 4\n",
      "4\n",
      "1 3\n",
      "4\n",
      "0 3\n",
      "\n",
      "5\n",
      "3 5\n",
      "5\n",
      "2 4\n",
      "5\n",
      "1 4\n",
      "5\n",
      "0 4\n",
      "\n",
      "1\n",
      "4 1\n",
      "1\n",
      "3 5\n",
      "1\n",
      "2 5\n",
      "1\n",
      "1 5\n",
      "1\n",
      "0 5\n",
      "[1, 5, 5, 5, 5]\n"
     ]
    }
   ],
   "source": [
    "arr=[2,3,4,5,1]\n",
    "for i in range(len(arr)):\n",
    "    num=arr[i]\n",
    "    print()\n",
    "    for j in range(i,-1,-1):\n",
    "        print(num)\n",
    "        print(j,arr[j])\n",
    "        if (j-1>=0 and arr[j-1]>=num):\n",
    "            arr[j]=arr[j-1]\n",
    "        else:\n",
    "            arr[j]=num\n",
    "print(arr)"
   ]
  },
  {
   "cell_type": "code",
   "execution_count": null,
   "metadata": {},
   "outputs": [],
   "source": []
  },
  {
   "cell_type": "markdown",
   "metadata": {},
   "source": [
    "ravula"
   ]
  },
  {
   "cell_type": "markdown",
   "metadata": {},
   "source": [
    "insertion sort:"
   ]
  },
  {
   "cell_type": "code",
   "execution_count": 9,
   "metadata": {},
   "outputs": [
    {
     "name": "stdout",
     "output_type": "stream",
     "text": [
      "[1, 2, 3, 4, 5]\n"
     ]
    }
   ],
   "source": [
    "arr=[5,4,3,2,1]\n",
    "for i in range(1,len(arr)):\n",
    "#     print(arr)\n",
    "    key=arr[i]\n",
    "    j=i-1\n",
    "    while(j>=0 and arr[j]>key):\n",
    "        arr[j+1]=arr[j]\n",
    "        j-=1\n",
    "    arr[j+1]=key\n",
    "#     print(arr)\n",
    "#     print()\n",
    "print(arr)"
   ]
  },
  {
   "cell_type": "code",
   "execution_count": null,
   "metadata": {},
   "outputs": [],
   "source": []
  },
  {
   "cell_type": "markdown",
   "metadata": {},
   "source": [
    "merge sort:\n",
    "https://www.geeksforgeeks.org/python-program-for-merge-sort/"
   ]
  },
  {
   "cell_type": "code",
   "execution_count": 24,
   "metadata": {
    "scrolled": true
   },
   "outputs": [
    {
     "name": "stdout",
     "output_type": "stream",
     "text": [
      "[1, 2, 3, 4, 5, 6, 7, 8, 9, 10, 34, 30924803]\n"
     ]
    }
   ],
   "source": [
    "# merging funtion\n",
    "def merge_arr(arr, left, middle, right):\n",
    "    n1= middle-left+1\n",
    "    n2= right-middle\n",
    "    arr_left=[arr[left+i] for i in range(0,n1)]\n",
    "    arr_right=[arr[middle+j+1] for j in range(0, n2)]\n",
    "#     print(arr_left,arr_right)\n",
    "    i,j=0,0\n",
    "    k=left\n",
    "    while(i<n1 and j<n2):\n",
    "        if(arr_left[i]<arr_right[j]):\n",
    "            arr[k]=arr_left[i]\n",
    "            i+=1\n",
    "        else:\n",
    "            arr[k]=arr_right[j]\n",
    "            j+=1\n",
    "        k+=1\n",
    "    while (i<n1):\n",
    "        arr[k]=arr_left[i]\n",
    "        i+=1\n",
    "        k+=1\n",
    "    while (j<n2):\n",
    "        arr[k]=arr_right[j]\n",
    "        j+=1\n",
    "        k+=1\n",
    "\n",
    "# merge sort recursive function\n",
    "def merge_sort(arr, left, right):\n",
    "    if(left<right):\n",
    "        mid= (left+right)//2\n",
    "        merge_sort(arr,left,mid)\n",
    "        merge_sort(arr,mid+1,right)\n",
    "        merge_arr(\n",
    "            arr,left,mid,right)\n",
    "\n",
    "# calling\n",
    "arr=[10,9,8,7,6,5,4,3,2,1,30924803,34]\n",
    "# arr1=[10,9,8,7,6]\n",
    "merge_sort(arr,0,len(arr)-1)\n",
    "# merge_arr(arr1, 0, (0+len(arr1)-1)//2, len(arr1)-1)\n",
    "print(arr)"
   ]
  },
  {
   "cell_type": "code",
   "execution_count": null,
   "metadata": {},
   "outputs": [],
   "source": []
  },
  {
   "cell_type": "markdown",
   "metadata": {},
   "source": [
    "quick sort"
   ]
  },
  {
   "cell_type": "code",
   "execution_count": 22,
   "metadata": {},
   "outputs": [
    {
     "name": "stdout",
     "output_type": "stream",
     "text": [
      "[1, 2, 3, 4, 7, 8, 6, 5, 9]\n",
      "[1, 2, 3, 4, 7, 8, 6, 5, 9]\n",
      "[1, 2, 3, 4, 7, 8, 6, 5, 9]\n",
      "[1, 2, 3, 4, 7, 8, 6, 5, 9]\n",
      "[1, 2, 3, 4, 5, 8, 6, 7, 9]\n",
      "[1, 2, 3, 4, 5, 6, 7, 8, 9]\n",
      "[1, 2, 3, 4, 5, 6, 7, 8, 9]\n"
     ]
    }
   ],
   "source": [
    "def partition(arr, start, partition_num_pos):\n",
    "#     start= 0\n",
    "    i=start-1\n",
    "#     partition_num_pos= len(arr)-1\n",
    "    partition_num=arr[partition_num_pos]\n",
    "    # print(i,partition_num_pos,partition_num)\n",
    "    for j in range(start,partition_num_pos):\n",
    "#         print(j)\n",
    "        if(arr[j]<=partition_num):\n",
    "            i+=1\n",
    "            arr[i],arr[j]=arr[j],arr[i]\n",
    "#             print('i= ',i,'j= ',j)\n",
    "    arr[i+1],arr[partition_num_pos]=arr[partition_num_pos],arr[i+1]\n",
    "    print(arr)\n",
    "    return i+1\n",
    "\n",
    "def quick_sort(arr, start, partition_pos):\n",
    "    if(start<partition_pos):\n",
    "        q= partition(arr, start, partition_pos)\n",
    "        quick_sort(arr, start, q-1)\n",
    "        quick_sort(arr, q+1, partition_pos)\n",
    "        \n",
    "arr1=[1,2,3,5,6,7,8,9,4]\n",
    "arr=[9,1,8,2,7,3,6,5,4]\n",
    "# partition_pos= partition(arr, 0, len(arr)-1)\n",
    "quick_sort(arr, 0, len(arr)-1)\n",
    "print(arr)\n",
    "# print(partition_pos)"
   ]
  },
  {
   "cell_type": "code",
   "execution_count": null,
   "metadata": {},
   "outputs": [],
   "source": []
  },
  {
   "cell_type": "code",
   "execution_count": null,
   "metadata": {},
   "outputs": [],
   "source": []
  },
  {
   "cell_type": "markdown",
   "metadata": {},
   "source": [
    "heap"
   ]
  },
  {
   "cell_type": "code",
   "execution_count": 78,
   "metadata": {},
   "outputs": [
    {
     "name": "stdout",
     "output_type": "stream",
     "text": [
      "[1, 2, 3, 4, 5, 6, 7, 8, 9]\n"
     ]
    }
   ],
   "source": [
    "def heapify(arr,start,lent):\n",
    "    left= 2*start+1\n",
    "    right= 2*start+2\n",
    "    largest= start\n",
    "    if(left<lent and arr[left]>arr[largest]):\n",
    "        largest= left\n",
    "    if(right<lent and arr[right]>arr[largest]):\n",
    "        largest=right\n",
    "    if(largest!=start):\n",
    "        arr[start],arr[largest]=arr[largest],arr[start]\n",
    "#         print(arr)\n",
    "        heapify(arr,largest,lent)\n",
    "        \n",
    "def build_heap(arr):\n",
    "    for i in range(len(arr)//2-1,-1,-1):\n",
    "        heapify(arr,i,len(arr))\n",
    "\n",
    "def extract_max(arr):\n",
    "    lent= len(arr)\n",
    "    if(lent<1):\n",
    "        print('heap underflow')\n",
    "    else:\n",
    "        maxim= arr[0]\n",
    "        arr[0]=arr[lent-1]\n",
    "        heapify(arr,0,lent-2)\n",
    "        return maxim\n",
    "\n",
    "def heap_sort(arr):\n",
    "    build_heap(arr)\n",
    "    lent= len(arr)\n",
    "    for i in range(lent-1,-1,-1):\n",
    "        arr[i],arr[0]=arr[0],arr[i]\n",
    "        heapify(arr,0,i)\n",
    "\n",
    "\n",
    "arr=[9,8,7,6,5,4,3,2,1]\n",
    "# build_heap(arr)\n",
    "# print(arr)\n",
    "\n",
    "# note: after extract max, the last element in new array will not be considered part of new heap, its as good as deleted\n",
    "# print(extract_max(arr))\n",
    "# print(arr)\n",
    "\n",
    "heap_sort(arr)\n",
    "print(arr)"
   ]
  },
  {
   "cell_type": "code",
   "execution_count": null,
   "metadata": {},
   "outputs": [],
   "source": []
  },
  {
   "cell_type": "markdown",
   "metadata": {},
   "source": [
    "bubble sort"
   ]
  },
  {
   "cell_type": "code",
   "execution_count": 98,
   "metadata": {},
   "outputs": [
    {
     "name": "stdout",
     "output_type": "stream",
     "text": [
      "[4, 5, 6, 7, 8, 9]\n"
     ]
    }
   ],
   "source": [
    "arr=[9,8,7,6,5,4]\n",
    "lent= len(arr)\n",
    "for i in range(lent):\n",
    "    for j in range(lent-i-1):\n",
    "        if(arr[j]>arr[j+1]):\n",
    "            arr[j+1],arr[j]=arr[j],arr[j+1]\n",
    "print(arr)"
   ]
  },
  {
   "cell_type": "code",
   "execution_count": null,
   "metadata": {},
   "outputs": [],
   "source": []
  },
  {
   "cell_type": "markdown",
   "metadata": {},
   "source": [
    "trees"
   ]
  },
  {
   "cell_type": "markdown",
   "metadata": {},
   "source": [
    "binary trees"
   ]
  },
  {
   "cell_type": "markdown",
   "metadata": {},
   "source": [
    "traversal: inorder, preorder, postorder"
   ]
  },
  {
   "cell_type": "code",
   "execution_count": null,
   "metadata": {},
   "outputs": [],
   "source": []
  },
  {
   "cell_type": "code",
   "execution_count": null,
   "metadata": {},
   "outputs": [],
   "source": []
  },
  {
   "cell_type": "code",
   "execution_count": null,
   "metadata": {},
   "outputs": [],
   "source": []
  },
  {
   "cell_type": "code",
   "execution_count": null,
   "metadata": {},
   "outputs": [],
   "source": []
  },
  {
   "cell_type": "code",
   "execution_count": null,
   "metadata": {},
   "outputs": [],
   "source": []
  },
  {
   "cell_type": "code",
   "execution_count": null,
   "metadata": {},
   "outputs": [],
   "source": []
  },
  {
   "cell_type": "code",
   "execution_count": null,
   "metadata": {},
   "outputs": [],
   "source": []
  },
  {
   "cell_type": "code",
   "execution_count": null,
   "metadata": {},
   "outputs": [],
   "source": []
  },
  {
   "cell_type": "code",
   "execution_count": null,
   "metadata": {},
   "outputs": [],
   "source": []
  },
  {
   "cell_type": "code",
   "execution_count": null,
   "metadata": {},
   "outputs": [],
   "source": []
  }
 ],
 "metadata": {
  "kernelspec": {
   "display_name": "Python 3",
   "language": "python",
   "name": "python3"
  },
  "language_info": {
   "codemirror_mode": {
    "name": "ipython",
    "version": 3
   },
   "file_extension": ".py",
   "mimetype": "text/x-python",
   "name": "python",
   "nbconvert_exporter": "python",
   "pygments_lexer": "ipython3",
   "version": "3.7.4"
  }
 },
 "nbformat": 4,
 "nbformat_minor": 2
}

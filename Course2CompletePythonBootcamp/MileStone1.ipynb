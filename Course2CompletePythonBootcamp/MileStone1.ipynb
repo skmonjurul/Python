{
 "cells": [
  {
   "cell_type": "code",
   "execution_count": 13,
   "metadata": {},
   "outputs": [
    {
     "name": "stdout",
     "output_type": "stream",
     "text": [
      "   |   |\n",
      " X | O | X\n",
      "   |   |\n",
      "-----------\n",
      "   |   |\n",
      " O | X | O\n",
      "   |   |\n",
      "-----------\n",
      "   |   |\n",
      " X | O | X\n",
      "   |   |\n"
     ]
    }
   ],
   "source": [
    "from IPython.display import clear_output\n",
    "\n",
    "#display board\n",
    "def display_board(board):\n",
    "    clear_output()  # Remember, this only works in jupyter!\n",
    "    \n",
    "    print('   |   |')\n",
    "    print(' ' + board[7] + ' | ' + board[8] + ' | ' + board[9])\n",
    "    print('   |   |')\n",
    "    print('-----------')\n",
    "    print('   |   |')\n",
    "    print(' ' + board[4] + ' | ' + board[5] + ' | ' + board[6])\n",
    "    print('   |   |')\n",
    "    print('-----------')\n",
    "    print('   |   |')\n",
    "    print(' ' + board[1] + ' | ' + board[2] + ' | ' + board[3])\n",
    "    print('   |   |')\n",
    "test_board=['#','X','O','X','O','X','O','X','O','X']\n",
    "display_board(test_board)\n",
    "\n",
    "#choose marker\n",
    "def choose_marker():\n",
    "    marker=''\n",
    "    while not(marker=='X' or marker == 'O'):\n",
    "        marker=input('what is your choice: X or O: ').upper()\n",
    "    \n",
    "    if marker=='X':\n",
    "        return ('X','O')\n",
    "    else:\n",
    "        return ('O','X')\n",
    "#choose_marker()\n",
    "\n",
    "#assign values to board:\n",
    "def assign_values(board,pos,marker):\n",
    "    board[pos]=marker\n",
    "\n",
    "#check win\n",
    "def win_check(board):\n",
    "    return \n",
    "    ((board[7]==board[8]==board[9]) or\n",
    "    (board[4]==board[5]==board[6]) or\n",
    "    (board[1]==board[2]==board[3]) or\n",
    "    (board[1]==board[4]==board[7]) or\n",
    "    (board[2]==board[5]==board[8]) or\n",
    "    (board[3]==board[6]==board[9]) or\n",
    "    (board[3]==board[5]==board[7]) or\n",
    "    (board[1]==board[5]==board[9]))\n",
    "# win_check(test_board)\n",
    "\n",
    "#check empty position\n",
    "def check_space(board,pos):\n",
    "        return board[pos]==''\n",
    "\n",
    "# check_space(test_board,8)\n",
    "\n",
    "#check empty board\n",
    "def check_board_space(board):\n",
    "    for i in range(1,10):\n",
    "        if check_space(board,i):\n",
    "            return False\n",
    "    return True\n",
    "\n",
    "# enter player values\n",
    "def player_choice(board):\n",
    "    pos=0\n",
    "    while(pos not in [1,2,3,4,5,6,7,8,9] or not check_space(board,pos)):\n",
    "        pos=int(input('Enter the position: '))\n",
    "        print('after input')\n",
    "    return pos\n",
    "\n",
    "def replay():\n",
    "    rep=input('do u wanna replay, yes or no: ').lower()[0]\n",
    "    return rep=='y'\n",
    "\n",
    "# player_choice(test_board)"
   ]
  },
  {
   "cell_type": "code",
   "execution_count": null,
   "metadata": {},
   "outputs": [],
   "source": [
    "print('Welcome to the game')\n",
    "the_board=['']*10\n",
    "val=0\n",
    "while(True):\n",
    "    display_board(the_board)\n",
    "    player1_marker,player2_marker=choose_marker()\n",
    "    while(True):\n",
    "        display_board(the_board)\n",
    "        position=player_choice(the_board)\n",
    "        assign_values(the_board,position,player1_marker)\n",
    "        val+=1\n",
    "        print('after assigning '+val+' value ')\n",
    "        \n",
    "        if(win_check(the_board)):\n",
    "            display_board(the_board)\n",
    "            print('win')\n",
    "            break\n",
    "        else:\n",
    "            if(check_board_space(the_board)):\n",
    "                print('game is draw')\n",
    "                break\n",
    "            else:\n",
    "                continue\n",
    "    if not replay():\n",
    "        break"
   ]
  },
  {
   "cell_type": "code",
   "execution_count": null,
   "metadata": {},
   "outputs": [],
   "source": [
    "boar=[1,2,3,1,1]\n",
    "def val_test(listt):\n",
    "    return ((listt[0]==listt[3]==listt[2]) or (listt[1]==listt[2]==listt[3]))\n",
    "val_test(boar)"
   ]
  },
  {
   "cell_type": "code",
   "execution_count": null,
   "metadata": {},
   "outputs": [],
   "source": [
    "def win_check(board):\n",
    "    return \n",
    "    ((board[7]==board[8]==board[9]) or\n",
    "    (board[4]==board[5]==board[6]) or\n",
    "    (board[1]==board[2]==board[3]) or\n",
    "    (board[1]==board[4]==board[7]) or\n",
    "    (board[2]==board[5]==board[8]) or\n",
    "    (board[3]==board[6]==board[9]) or\n",
    "    (board[3]==board[5]==board[7]) or\n",
    "    (board[1]==board[5]==board[9]))\n",
    "board_test=[1,1,2,1,3,4,1,23,4]\n",
    "win_check(board_test)"
   ]
  },
  {
   "cell_type": "code",
   "execution_count": 2,
   "metadata": {},
   "outputs": [
    {
     "ename": "IndentationError",
     "evalue": "unindent does not match any outer indentation level (<tokenize>, line 6)",
     "output_type": "error",
     "traceback": [
      "\u001b[1;36m  File \u001b[1;32m\"<tokenize>\"\u001b[1;36m, line \u001b[1;32m6\u001b[0m\n\u001b[1;33m    print('   |   |')\u001b[0m\n\u001b[1;37m    ^\u001b[0m\n\u001b[1;31mIndentationError\u001b[0m\u001b[1;31m:\u001b[0m unindent does not match any outer indentation level\n"
     ]
    }
   ],
   "source": [
    "def display_board(board):\n",
    "    # clear_output()  # Remember, this only works in jupyter!\n",
    "    import os\n",
    "    os.system('cls' if os.name == 'nt' else 'clear')\n",
    "    \n",
    "    print('   |   |')\n",
    "    print(' ' + board[7] + ' | ' + board[8] + ' | ' + board[9])\n",
    "    print('   |   |')\n",
    "    print('-----------')\n",
    "    print('   |   |')\n",
    "    print(' ' + board[4] + ' | ' + board[5] + ' | ' + board[6])\n",
    "    print('   |   |')\n",
    "    print('-----------')\n",
    "    print('   |   |')\n",
    "    print(' ' + board[1] + ' | ' + board[2] + ' | ' + board[3])\n",
    "    print('   |   |')\n",
    "test_board=['#','X','O','X','O','X','O','X','O','X']"
   ]
  }
 ],
 "metadata": {
  "kernelspec": {
   "display_name": "Python 3",
   "language": "python",
   "name": "python3"
  },
  "language_info": {
   "codemirror_mode": {
    "name": "ipython",
    "version": 3
   },
   "file_extension": ".py",
   "mimetype": "text/x-python",
   "name": "python",
   "nbconvert_exporter": "python",
   "pygments_lexer": "ipython3",
   "version": "3.7.4"
  }
 },
 "nbformat": 4,
 "nbformat_minor": 2
}

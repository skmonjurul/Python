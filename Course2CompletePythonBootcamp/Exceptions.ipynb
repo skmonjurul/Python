{
 "cells": [
  {
   "cell_type": "code",
   "execution_count": 7,
   "metadata": {},
   "outputs": [
    {
     "name": "stdout",
     "output_type": "stream",
     "text": [
      "Error due to string to int conversion\n",
      "into finally\n",
      "Error due to string to int conversion\n",
      "into finally\n",
      "Error due to string to int conversion\n",
      "into finally\n"
     ]
    }
   ],
   "source": [
    "for i in ['a','b','c']:\n",
    "    try:\n",
    "        print(i**2)\n",
    "    except:\n",
    "        print('Error due to string to int conversion')\n",
    "    else:\n",
    "        print('into else block')\n",
    "    finally:\n",
    "        print('into finally')"
   ]
  },
  {
   "cell_type": "code",
   "execution_count": 10,
   "metadata": {},
   "outputs": [
    {
     "name": "stdout",
     "output_type": "stream",
     "text": [
      "divide by Zero error \n",
      "all done\n"
     ]
    }
   ],
   "source": [
    "try:\n",
    "    x = 5\n",
    "    y = 0\n",
    "\n",
    "    z = x/y\n",
    "except:\n",
    "    print('divide by Zero error ')\n",
    "else:\n",
    "    print('division was successful')\n",
    "finally:\n",
    "    print('all done')"
   ]
  },
  {
   "cell_type": "code",
   "execution_count": 3,
   "metadata": {},
   "outputs": [
    {
     "name": "stdout",
     "output_type": "stream",
     "text": [
      "enter an integer1\n",
      "an error occurred, please try again \n",
      "Thank you, your number squared is:  1\n"
     ]
    }
   ],
   "source": [
    "def num():\n",
    "    try:\n",
    "        inp=input('enter an integer')\n",
    "        return inp**2\n",
    "    except:\n",
    "        print('an error occurred, please try again ')\n",
    "    finally:\n",
    "        print('Thank you, your number squared is:  '+str(inp))\n",
    "num()"
   ]
  },
  {
   "cell_type": "code",
   "execution_count": 9,
   "metadata": {},
   "outputs": [
    {
     "data": {
      "text/plain": [
       "'01234'"
      ]
     },
     "execution_count": 9,
     "metadata": {},
     "output_type": "execute_result"
    }
   ],
   "source": [
    "''.join(str(x) for x in range(5))"
   ]
  }
 ],
 "metadata": {
  "kernelspec": {
   "display_name": "Python 3",
   "language": "python",
   "name": "python3"
  },
  "language_info": {
   "codemirror_mode": {
    "name": "ipython",
    "version": 3
   },
   "file_extension": ".py",
   "mimetype": "text/x-python",
   "name": "python",
   "nbconvert_exporter": "python",
   "pygments_lexer": "ipython3",
   "version": "3.7.4"
  }
 },
 "nbformat": 4,
 "nbformat_minor": 2
}

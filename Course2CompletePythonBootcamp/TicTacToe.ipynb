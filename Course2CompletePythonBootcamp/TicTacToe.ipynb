{
 "cells": [
  {
   "cell_type": "code",
   "execution_count": 4,
   "metadata": {},
   "outputs": [
    {
     "name": "stdout",
     "output_type": "stream",
     "text": [
      "   |   |\n",
      "  |  | \n",
      "   |   |\n",
      "-----------\n",
      "   |   |\n",
      "  |  | \n",
      "   |   |\n",
      "-----------\n",
      "   |   |\n",
      " X |  | \n",
      "   |   |\n"
     ]
    }
   ],
   "source": [
    "# display the board\n",
    "from IPython.display import clear_output\n",
    "def display_board(board):\n",
    "    clear_output()  # Remember, this only works in jupyter!\n",
    "#     import os\n",
    "#     os.system('cls' if os.name == 'nt' else 'clear')\n",
    "    \n",
    "    print('   |   |')\n",
    "    print(' ' + board[7] + ' | ' + board[8] + ' | ' + board[9])\n",
    "    print('   |   |')\n",
    "    print('-----------')\n",
    "    print('   |   |')\n",
    "    print(' ' + board[4] + ' | ' + board[5] + ' | ' + board[6])\n",
    "    print('   |   |')\n",
    "    print('-----------')\n",
    "    print('   |   |')\n",
    "    print(' ' + board[1] + ' | ' + board[2] + ' | ' + board[3])\n",
    "    print('   |   |')\n",
    "# test_board=['#','X','O','X','O','X','O','X','O','X']\n",
    "\n",
    "# choose the marker\n",
    "def choose_marker():\n",
    "    marker=''\n",
    "    while not(marker.upper()=='X' or marker.upper()=='O'):\n",
    "        marker=input('Enter your marker ')\n",
    "        \n",
    "    if marker.upper()=='X':\n",
    "        return marker.upper()\n",
    "    elif marker.upper()=='O':\n",
    "        return marker.upper()\n",
    "\n",
    "#check empty position\n",
    "def is_empty(board,position):\n",
    "    return board[position]=='' \n",
    "\n",
    "# take proper position from user\n",
    "def check_position(board):\n",
    "    position=0\n",
    "    while(position not in [1,2,3,4,5,6,7,8,9] or not is_empty(board,position)):\n",
    "        position=int(input('Enter your position between 1 to 9: '))\n",
    "    return position\n",
    "\n",
    "def assign_value(board,pos,marker):\n",
    "    board[pos]=marker\n",
    "\n",
    "print('welcome to the game ')\n",
    "board= ['']*10\n",
    "# print(board)\n",
    "while(True):\n",
    "    display_board(board)\n",
    "    marker=choose_marker()\n",
    "    pos=check_position(board)\n",
    "    assign_value(board,pos,marker)\n",
    "    display_board(board)\n",
    "    break\n",
    "    "
   ]
  },
  {
   "cell_type": "code",
   "execution_count": 2,
   "metadata": {},
   "outputs": [
    {
     "name": "stdout",
     "output_type": "stream",
     "text": [
      "   |   |\n",
      "  |  | \n",
      "   |   |\n",
      "-----------\n",
      "   |   |\n",
      "  |  | \n",
      "   |   |\n",
      "-----------\n",
      "   |   |\n",
      " x |  | \n",
      "   |   |\n"
     ]
    }
   ],
   "source": [
    "from IPython.display import clear_output\n",
    "def display_board(board):\n",
    "    clear_output()  # Remember, this only works in jupyter!\n",
    "#     import os\n",
    "#     os.system('cls' if os.name == 'nt' else 'clear')\n",
    "    \n",
    "    print('   |   |')\n",
    "    print(' ' + board[7] + ' | ' + board[8] + ' | ' + board[9])\n",
    "    print('   |   |')\n",
    "    print('-----------')\n",
    "    print('   |   |')\n",
    "    print(' ' + board[4] + ' | ' + board[5] + ' | ' + board[6])\n",
    "    print('   |   |')\n",
    "    print('-----------')\n",
    "    print('   |   |')\n",
    "    print(' ' + board[1] + ' | ' + board[2] + ' | ' + board[3])\n",
    "    print('   |   |')\n",
    "\n",
    "board=['']*10\n",
    "def is_empty(board,position):\n",
    "    return board[position]==''\n",
    "\n",
    "# is_empty(board,9)\n",
    "\n",
    "# check_position(board)\n",
    "def check_position(board):\n",
    "    position=0\n",
    "    while(position not in [1,2,3,4,5,6,7,8,9] or not is_empty(board,position)):\n",
    "        position=int(input('Enter your position between 1 to 9: '))\n",
    "    return position\n",
    "\n",
    "position=check_position(board)\n",
    "print('position is '+str(position))\n",
    "\n",
    "def assign_value(board,position,marker='x'):\n",
    "#     marker='x'\n",
    "    board[position]=marker\n",
    "\n",
    "# print(board)\n",
    "assign_value(board,1,'x')\n",
    "# print(board)\n",
    "display_board(board)"
   ]
  },
  {
   "cell_type": "code",
   "execution_count": 3,
   "metadata": {},
   "outputs": [
    {
     "data": {
      "text/plain": [
       "'A'"
      ]
     },
     "execution_count": 3,
     "metadata": {},
     "output_type": "execute_result"
    }
   ],
   "source": [
    "char='a'\n",
    "char.upper()"
   ]
  }
 ],
 "metadata": {
  "kernelspec": {
   "display_name": "Python 3",
   "language": "python",
   "name": "python3"
  },
  "language_info": {
   "codemirror_mode": {
    "name": "ipython",
    "version": 3
   },
   "file_extension": ".py",
   "mimetype": "text/x-python",
   "name": "python",
   "nbconvert_exporter": "python",
   "pygments_lexer": "ipython3",
   "version": "3.7.4"
  }
 },
 "nbformat": 4,
 "nbformat_minor": 2
}
